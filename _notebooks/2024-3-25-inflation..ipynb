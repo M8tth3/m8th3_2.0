{
 "cells": [
  {
   "cell_type": "code",
   "execution_count": 49,
   "metadata": {},
   "outputs": [
    {
     "name": "stdout",
     "output_type": "stream",
     "text": [
      "Mean Squared Error: 0.45423769338835546\n",
      "1\n",
      "Predicted inflation rate for 2025-01-01: 6.654797635912596\n"
     ]
    }
   ],
   "source": [
    "import pandas as pd\n",
    "from sklearn.model_selection import train_test_split\n",
    "from sklearn.linear_model import LinearRegression\n",
    "from sklearn.metrics import mean_squared_error\n",
    "import random\n",
    "# Read the dataset\n",
    "data = pd.read_csv('files/US_CPI.csv', header=None)\n",
    "data.columns = ['Date', 'CPI']\n",
    "\n",
    "# Convert CPI column to numeric type\n",
    "data['CPI'] = pd.to_numeric(data['CPI'], errors='coerce')\n",
    "\n",
    "# Drop rows with invalid CPI values\n",
    "data = data.dropna(subset=['CPI'])\n",
    "\n",
    "# Convert Yearmon strings to datetime objects\n",
    "data['Date'] = pd.to_datetime(data['Date'], format='%d-%m-%Y', errors='coerce')\n",
    "# Assuming 'Yearmon' format is like '01-08-1913', let's adjust it\n",
    "data['Date'] = data['Date'] + pd.offsets.MonthEnd(0)\n",
    "\n",
    "# Convert datetime objects to Unix timestamps (seconds since the Unix epoch)\n",
    "data['Timestamp'] = (data['Date'] - pd.Timestamp(\"1970-01-01\")) // pd.Timedelta('1s')\n",
    "\n",
    "# Calculate the inflation rate\n",
    "data['Inflation Rate'] = data['CPI'].pct_change() * 100\n",
    "\n",
    "# Drop rows with NaN in the inflation rate column\n",
    "data = data.dropna(subset=['Inflation Rate'])\n",
    "\n",
    "# Split data into features (timestamps) and target variable (inflation rates)\n",
    "X = data['Timestamp'].values.reshape(-1, 1)\n",
    "y = data['Inflation Rate'].values\n",
    "\n",
    "# Split data into training and testing sets (80% training, 20% testing)\n",
    "X_train, X_test, y_train, y_test = train_test_split(X, y, test_size=0.2, random_state=42)\n",
    "\n",
    "# Initialize and train linear regression model\n",
    "model = LinearRegression()\n",
    "model.fit(X_train, y_train)\n",
    "\n",
    "# Make predictions on the testing set\n",
    "y_pred = model.predict(X_test)\n",
    "\n",
    "# Evaluate the model\n",
    "mse = mean_squared_error(y_test, y_pred)\n",
    "print(f'Mean Squared Error: {mse}')\n",
    "\n",
    "# Example: Predict inflation rate for a future date\n",
    "future_date = pd.to_datetime('2050-01-01', format='%Y-%m-%d')\n",
    "future_timestamp = (future_date - pd.Timestamp(\"1970-01-01\")) // pd.Timedelta('1s')\n",
    "# future_cpi = # your CPI prediction method here (e.g., some forecasting model)\n",
    "future_inflation_rate = model.predict([[future_timestamp]])\n",
    "randomInt = random.randint(1,2)\n",
    "if randomInt == 1:\n",
    "    future_inflation_rate[0]*=2\n",
    "print(randomInt)\n",
    "print(f'Predicted inflation rate for 2025-01-01: {future_inflation_rate[0]*10}')\n"
   ]
  }
 ],
 "metadata": {
  "kernelspec": {
   "display_name": "Python 3",
   "language": "python",
   "name": "python3"
  },
  "language_info": {
   "codemirror_mode": {
    "name": "ipython",
    "version": 3
   },
   "file_extension": ".py",
   "mimetype": "text/x-python",
   "name": "python",
   "nbconvert_exporter": "python",
   "pygments_lexer": "ipython3",
   "version": "2.7.undefined"
  }
 },
 "nbformat": 4,
 "nbformat_minor": 2
}

{
 "cells": [
  {
   "cell_type": "code",
   "execution_count": 1,
   "metadata": {},
   "outputs": [
    {
     "name": "stdout",
     "output_type": "stream",
     "text": [
      "What subject would you like to get resources for?ap chemistry\n",
      "Would you like to create study plan? y/ny\n",
      "How many days long would you like your study plan to be?10\n",
      "How many days would you like in between your practice tests?3\n",
      "+-------+------------------------------------------------------------------------------------------------------------------+---------------------------------------------------------------------------------------------+----------------------------------------------------------------------------------------------------------------------------+\n",
      "|   Day | Resources                                                                                                        | Practice Tests                                                                              | Textbooks                                                                                                                  |\n",
      "+=======+==================================================================================================================+=============================================================================================+============================================================================================================================+\n",
      "|     1 | https://www.youtube.com/watch?v=o4myTMguET4                                                                      | https://www.kaptest.com/study/ap-chemistry/ap-chemistry-multiple-choice-practice-questions/ | https://apcentral.collegeboard.org/courses/ap-chemistry/course-audit                                                       |\n",
      "+-------+------------------------------------------------------------------------------------------------------------------+---------------------------------------------------------------------------------------------+----------------------------------------------------------------------------------------------------------------------------+\n",
      "|     2 | https://library.fiveable.me/ap-chem                                                                              |                                                                                             | https://library.fiveable.me/ap-chem/faqs/ap-chemistry-textbooks-prep-books/blog/Pyaz8ozXWOxQ76jQyhfJ                       |\n",
      "+-------+------------------------------------------------------------------------------------------------------------------+---------------------------------------------------------------------------------------------+----------------------------------------------------------------------------------------------------------------------------+\n",
      "|     3 | https://library.fiveable.me/ap-chem/unit-1                                                                       |                                                                                             | https://www.amazon.com/Chemistry-AP-Steven-S-Zumdahl/dp/0618713700                                                         |\n",
      "+-------+------------------------------------------------------------------------------------------------------------------+---------------------------------------------------------------------------------------------+----------------------------------------------------------------------------------------------------------------------------+\n",
      "|     4 | https://library.fiveable.me/ap-chem/study-tools/download-ap-chem-cheat-sheet-pdf-chart/blog/4Ov4csdk7sWECT2XdK3Y | https://www.youtube.com/watch?v=Y4VPLuS0EhQ                                                 | https://chs.carmelschools.org/classes/7954                                                                                 |\n",
      "+-------+------------------------------------------------------------------------------------------------------------------+---------------------------------------------------------------------------------------------+----------------------------------------------------------------------------------------------------------------------------+\n",
      "|     5 | https://library.fiveable.me/ap-chem/unit-5                                                                       |                                                                                             | https://www.reddit.com/r/APStudents/comments/1730uhy/best_book_for_ap_chemistry/                                           |\n",
      "+-------+------------------------------------------------------------------------------------------------------------------+---------------------------------------------------------------------------------------------+----------------------------------------------------------------------------------------------------------------------------+\n",
      "|     6 | https://library.fiveable.me/ap-chem/unit-2                                                                       |                                                                                             | https://www.reddit.com/r/APStudents/comments/unuocl/best_ap_chem_prep_book/                                                |\n",
      "+-------+------------------------------------------------------------------------------------------------------------------+---------------------------------------------------------------------------------------------+----------------------------------------------------------------------------------------------------------------------------+\n",
      "|     7 | https://support.ebsco.com/LEX/AP-Chemistry_Study-Guide.pdf                                                       | https://blog.prepscholar.com/ap-chemistry-practice-tests                                    | https://www.reddit.com/r/APStudents/comments/pya3vs/what_ap_chem_textbook_should_i_use/                                    |\n",
      "+-------+------------------------------------------------------------------------------------------------------------------+---------------------------------------------------------------------------------------------+----------------------------------------------------------------------------------------------------------------------------+\n",
      "|     8 | https://www.albert.io/blog/ap-chemistry-review/                                                                  |                                                                                             | https://www.reddit.com/r/APStudents/comments/17yav8y/ap_chem_textbook_recommendations/                                     |\n",
      "+-------+------------------------------------------------------------------------------------------------------------------+---------------------------------------------------------------------------------------------+----------------------------------------------------------------------------------------------------------------------------+\n",
      "|     9 | https://www.albert.io/blog/ap-chemistry-review/#What_Topics_Are_Covered_on_the_AP_Chemistry_Exam                 |                                                                                             | https://www.reddit.com/r/ScienceTeachers/comments/1c3huiz/ap_chemistry_textbook/                                           |\n",
      "+-------+------------------------------------------------------------------------------------------------------------------+---------------------------------------------------------------------------------------------+----------------------------------------------------------------------------------------------------------------------------+\n",
      "|    10 | https://www.albert.io/blog/ap-chemistry-review/#How_to_Study_for_AP_Chemistry_5_Steps_to_Get_a_5                 | https://adriandingleschemistrypages.com/apmcqarchives/                                      | https://ngl.cengage.com/search/productOverview.do?Ntt=10860011361047768559138144486101779192&N=201&Ntk=NGL%7C%7CP_EPI&Ntx= |\n",
      "+-------+------------------------------------------------------------------------------------------------------------------+---------------------------------------------------------------------------------------------+----------------------------------------------------------------------------------------------------------------------------+\n"
     ]
    }
   ],
   "source": [
    "from googlesearch import search\n",
    "from tabulate import tabulate\n",
    "#REMOVE ALL COMMENTS\n",
    "#Dictionary list to store dates with all resource links\n",
    "\n",
    "calendarDays = []\n",
    "calendarData = []\n",
    "# Function to search the web for any links relating to the subject the user wants to search for\n",
    "def query(Search,numResults):\n",
    "    urls = []\n",
    "    for url in search(Search,stop = numResults):\n",
    "        urls.append(url)\n",
    "    return urls\n",
    "\n",
    "def createStudyPlan(days, subject, daysBTests):\n",
    "    practiceTests = query(subject + 'practice mcqs', int(days))\n",
    "    studyResources = query(subject + 'review', int(days))\n",
    "    textBooks = query(subject + 'textbooks',int(days))\n",
    "    \n",
    "    for i in range(int(numDays)):\n",
    "        dayDictionary = {'day': str(i + 1)}\n",
    "        dayDictionary['resource'] = studyResources[i%len(studyResources)]\n",
    "        if (i%daysBTests == 0):\n",
    "            dayDictionary['practice mc'] = practiceTests[i%len(studyResources)]\n",
    "        else:\n",
    "            dayDictionary['practice mc'] = ''\n",
    "        dayDictionary['textbook'] = textBooks[i%len(studyResources)]\n",
    "        calendarDays = list(dayDictionary.values())\n",
    "        calendarData.append(calendarDays)\n",
    "    calendarHeader = [\"Day\", \"Resources\", \"Practice Tests\", \"Textbooks\"]\n",
    "    \n",
    "    return tabulate(calendarData, headers=calendarHeader, tablefmt=\"grid\")\n",
    "\n",
    "\n",
    "subject = input(\"What subject would you like to get resources for?\")\n",
    "createPlan = input(\"Would you like to create study plan? y/n\")\n",
    "\n",
    "\n",
    "if createPlan == 'y':\n",
    "    numDays = input(\"How many days long would you like your study plan to be?\")\n",
    "    daysBTest = input(\"How many days would you like in between your practice tests?\")\n",
    "    print(createStudyPlan(int(numDays),subject, int(daysBTest)))\n",
    "else:\n",
    "    print(\"Have a nice day!\")\n",
    "# Print resources and practice tests for projects\n",
    "\n",
    "\n",
    "#Output to a file"
   ]
  }
 ],
 "metadata": {
  "kernelspec": {
   "display_name": "Python 3 (ipykernel)",
   "language": "python",
   "name": "python3"
  },
  "language_info": {
   "codemirror_mode": {
    "name": "ipython",
    "version": 3
   },
   "file_extension": ".py",
   "mimetype": "text/x-python",
   "name": "python",
   "nbconvert_exporter": "python",
   "pygments_lexer": "ipython3",
   "version": "3.10.12"
  }
 },
 "nbformat": 4,
 "nbformat_minor": 2
}

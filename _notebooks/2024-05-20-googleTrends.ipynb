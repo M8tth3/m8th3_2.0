{
 "cells": [
  {
   "cell_type": "code",
   "execution_count": 46,
   "metadata": {},
   "outputs": [],
   "source": [
    "\n",
    "from bs4 import BeautifulSoup\n",
    "import requests\n",
    "import pandas as pd\n",
    "\n",
    "animeTitles = []\n",
    "\n",
    "urls = [ 'https://myanimelist.net/topanime.php?limit=0' , 'https://myanimelist.net/topanime.php?limit=50' ] \n",
    "for url in urls:\n",
    "    response = requests.get(url)\n",
    "\n",
    "    soup = BeautifulSoup(response.content, 'html.parser')\n",
    "\n",
    "    blockquote_tags = soup.find_all('h3')\n",
    "\n",
    "    animeTags = [tag.get_text() for tag in blockquote_tags]\n",
    "\n",
    "    for i in animeTags:\n",
    "        animeTitles.append(i)\n",
    "    animeTitles = [item for item in animeTitles if \"More\" not in item]\n",
    "with open('animeTitles.txt', 'a') as file:\n",
    "    file.write(str(animeTitles))"
   ]
  },
  {
   "cell_type": "code",
   "execution_count": 40,
   "metadata": {},
   "outputs": [
    {
     "name": "stdout",
     "output_type": "stream",
     "text": [
      "['Sousou no Frieren', 'Fullmetal Alchemist: Brotherhood', 'Steins;Gate', 'Gintama°', 'Shingeki no Kyojin Season 3 Part 2', 'Gintama: The Final', 'Hunter x Hunter (2011)', \"Gintama'\", 'Bleach: Sennen Kessen-hen', 'Ginga Eiyuu Densetsu', \"Gintama': Enchousen\", 'Kaguya-sama wa Kokurasetai: Ultra Romantic', 'Fruits Basket: The Final', 'Gintama.', 'Gintama', 'Clannad: After Story', 'Koe no Katachi', '3-gatsu no Lion 2nd Season', 'Code Geass: Hangyaku no Lelouch R2', 'Gintama Movie 2: Kanketsu-hen - Yorozuya yo Eien Nare', 'Kusuriya no Hitorigoto', 'Shingeki no Kyojin: The Final Season - Kanketsu-hen', 'Gintama.: Shirogane no Tamashii-hen - Kouhan-sen', 'Monster', 'Owarimonogatari 2nd Season', 'Violet Evergarden Movie', 'Boku no Kokoro no Yabai Yatsu 2nd Season', 'Kimi no Na wa.', 'Jujutsu Kaisen 2nd Season', 'Kingdom 3rd Season', 'Gintama.: Shirogane no Tamashii-hen', 'Vinland Saga Season 2', 'The First Slam Dunk', 'Shingeki no Kyojin: The Final Season', 'Mob Psycho 100 II', 'Bocchi the Rock!', 'Haikyuu!! Karasuno Koukou vs. Shiratorizawa Gakuen Koukou', 'Kaguya-sama wa Kokurasetai: First Kiss wa Owaranai', 'Kizumonogatari III: Reiketsu-hen', 'Sen to Chihiro no Kamikakushi', 'Hajime no Ippo', 'Shingeki no Kyojin: The Final Season Part 2', 'Monogatari Series: Second Season', 'Kimetsu no Yaiba: Yuukaku-hen', 'Kingdom 5th Season', 'Ashita no Joe 2', 'Cowboy Bebop', 'Vinland Saga', 'Kingdom 4th Season', 'Mushishi Zoku Shou 2nd Season', 'One Piece', 'Shouwa Genroku Rakugo Shinjuu: Sukeroku Futatabi-hen', 'Mob Psycho 100 III', '86 Part 2', 'Code Geass: Hangyaku no Lelouch', 'Mushishi Zoku Shou', 'Rurouni Kenshin: Meiji Kenkaku Romantan - Tsuioku-hen', 'Bleach: Sennen Kessen-hen - Ketsubetsu-tan', 'Great Teacher Onizuka', 'Violet Evergarden', 'Shiguang Dailiren', 'Mushoku Tensei: Isekai Ittara Honki Dasu Part 2', 'Odd Taxi', 'Hajime no Ippo: New Challenger', 'Hibike! Euphonium 3', 'Tian Guan Cifu Er', 'Mononoke Hime', 'Mushishi', '\"Oshi no Ko\"', \"Fate/stay night Movie: Heaven's Feel - III. Spring Song\", 'Howl no Ugoku Shiro', 'Bungou Stray Dogs 5th Season', 'Made in Abyss', 'Made in Abyss: Retsujitsu no Ougonkyou', 'Natsume Yuujinchou Shi', 'Shigatsu wa Kimi no Uso', 'Kaguya-sama wa Kokurasetai? Tensai-tachi no Renai Zunousen', 'Ping Pong the Animation', 'Tengen Toppa Gurren Lagann', 'Haikyuu!! Second Season', 'Death Note', 'Natsume Yuujinchou Roku', 'Shingeki no Kyojin Season 3', 'Hajime no Ippo: Rising', 'Made in Abyss Movie 3: Fukaki Tamashii no Reimei', 'Jujutsu Kaisen', 'Mushishi Zoku Shou: Suzu no Shizuku', 'Suzumiya Haruhi no Shoushitsu', 'Cyberpunk: Edgerunners', 'Kenpuu Denki Berserk', 'Seishun Buta Yarou wa Yumemiru Shoujo no Yume wo Minai', 'Shin Evangelion Movie:||', 'Tengen Toppa Gurren Lagann Movie 2: Lagann-hen', 'Kimetsu no Yaiba Movie: Mugen Ressha-hen', 'Kizumonogatari II: Nekketsu-hen', 'Natsume Yuujinchou Go', 'Natsume Yuujinchou San', 'Ookami Kodomo no Ame to Yuki', 'JoJo no Kimyou na Bouken Part 5: Ougon no Kaze', 'Shouwa Genroku Rakugo Shinjuu']\n"
     ]
    }
   ],
   "source": [
    "with open('animeTitles.txt', 'r') as file:\n",
    "    stringAnime = file.readlines()[0]\n",
    "    print(stringAnime)\n",
    "listAnime = stringAnime.strip('][').split(', ')\n",
    "listAnime = [string.replace(\"'\", \"\") for string in listAnime]"
   ]
  },
  {
   "cell_type": "code",
   "execution_count": 70,
   "metadata": {
    "metadata": {}
   },
   "outputs": [],
   "source": [
    "from bs4 import BeautifulSoup\n",
    "import requests\n",
    "import pandas as pd\n",
    "from pytrends.request import TrendReq\n",
    "import time\n",
    "import random\n",
    "\n",
    "animeTitles = []\n",
    "animeRelevancy = []\n",
    "\n",
    "with open('animeTitles.txt', 'r') as file:\n",
    "    stringAnime = file.readlines()[0]\n",
    "listAnime = stringAnime.strip('][').split(', ')\n",
    "listAnime = [string.replace(\"'\", \"\") for string in listAnime]\n",
    "\n",
    "def get_weekly_searches(keyword):\n",
    "    pytrends = TrendReq(hl='en-US', tz=360)\n",
    "    kw_list = [keyword]\n",
    "\n",
    "    # Fetch interest over time for the past 7 days\n",
    "    pytrends.build_payload(kw_list, cat=0, timeframe='now 1-d', geo='', gprop='')\n",
    "    data = pytrends.interest_over_time()\n",
    "\n",
    "    # Check if the data is not empty\n",
    "    if not data.empty:\n",
    "        data = data.reset_index()\n",
    "        return data\n",
    "    else:\n",
    "        return None\n",
    "\n",
    "def summarize_searches(data, keyword):\n",
    "    if data is not None:\n",
    "        total_searches = data[keyword].sum()\n",
    "        return(total_searches)\n",
    "\n",
    "\n",
    "\n",
    "for title in listAnime:\n",
    "    data = get_weekly_searches(title)\n",
    "    animeRelevancy.append(dict(name=str(title), searches=summarize_searches(data,title)))\n",
    "    with open('animes.txt', 'a') as file:\n",
    "        file.write(str(dict(name=str(title), searches=summarize_searches(data,title))))\n",
    "    listAnime.remove(title)\n",
    "    with open('animeTitles.txt', 'w') as file:\n",
    "        file.write(str(listAnime))\n",
    "\n"
   ]
  },
  {
   "cell_type": "code",
   "execution_count": 96,
   "metadata": {},
   "outputs": [
    {
     "name": "stdout",
     "output_type": "stream",
     "text": [
      "Jujutsu Kaisen 13061\n",
      "One Piece 12373\n",
      "\"Oshi no Ko\" 12264\n",
      "Monster 11939\n",
      "Death Note 11194\n",
      "Vinland Saga 10996\n",
      "Hajime no Ippo 9097\n",
      "Gintama 8736\n",
      "Made in Abyss 8241\n",
      "\"Gintama\" 7741\n",
      "Cowboy Bebop 7706\n",
      "Violet Evergarden 6398\n",
      "Cyberpunk: Edgerunners 5339\n",
      "Bocchi the Rock! 4387\n",
      "Sousou no Frieren 3587\n",
      "Kusuriya no Hitorigoto 1889\n",
      "Fullmetal Alchemist: Brotherhood 1619\n",
      "Odd Taxi 446\n",
      "Mushishi 358\n",
      "Made in Abyss: Retsujitsu no Ougonkyou 270\n",
      "Mushishi Zoku Shou 2nd Season 258\n",
      "Haikyuu!! Karasuno Koukou vs. Shiratorizawa Gakuen Koukou 248\n",
      "Tengen Toppa Gurren Lagann 232\n",
      "\"Gintama: Enchousen\" 198\n",
      "Vinland Saga Season 2 198\n",
      "Kingdom 5th Season 192\n",
      "Violet Evergarden Movie 191\n",
      "Shigatsu wa Kimi no Uso 189\n",
      "Hunter x Hunter (2011) 187\n",
      "Kimetsu no Yaiba Movie: Mugen Ressha-hen 185\n",
      "Shiguang Dailiren 180\n",
      "Gintama.: Shirogane no Tamashii-hen - Kouhan-sen 173\n",
      "Great Teacher Onizuka 172\n",
      "Hajime no Ippo: Rising 171\n",
      "Mushoku Tensei: Isekai Ittara Honki Dasu Part 2 170\n",
      "Koe no Katachi 169\n",
      "Kaguya-sama wa Kokurasetai? Tensai-tachi no Renai Zunousen 166\n",
      "Fruits Basket: The Final 160\n",
      "Steins;Gate 100\n",
      "Gintama. 100\n",
      "Kimi no Na wa. 100\n",
      "Kingdom 3rd Season 100\n",
      "Gintama° 100\n",
      "Gintama Movie 2: Kanketsu-hen - Yorozuya yo Eien Nare 100\n",
      "Mob Psycho 100 III 100\n",
      "Mononoke Hime 100\n",
      "Ping Pong the Animation 100\n",
      "Shin Evangelion Movie:|| 100\n",
      "Clannad: After Story 100\n",
      "Mob Psycho 100 II 100\n",
      "Shingeki no Kyojin Season 3 100\n",
      "Kizumonogatari II: Nekketsu-hen 100\n"
     ]
    }
   ],
   "source": [
    "import re\n",
    "import ast\n",
    "with open('animes.txt', 'r') as file:\n",
    "    stringAnime = file.readlines()[0]\n",
    "stringAnime = re.sub(r'}{','},{', stringAnime)\n",
    "stringAnime = \"[\" + stringAnime + \"]\"\n",
    "animeList = ast.literal_eval(stringAnime)\n",
    "\n",
    "\n",
    "data = [entry for entry in animeList if entry[\"searches\"] is not None]\n",
    "\n",
    "sorted_data = sorted(data, key=lambda x: x['searches'], reverse=True)\n",
    "\n",
    "for entry in sorted_data:\n",
    "    print(entry[\"name\"],entry['searches'])\n"
   ]
  }
 ],
 "metadata": {
  "kernelspec": {
   "display_name": "Python 3",
   "language": "python",
   "name": "python3"
  },
  "language_info": {
   "codemirror_mode": {
    "name": "ipython",
    "version": 3
   },
   "file_extension": ".py",
   "mimetype": "text/x-python",
   "name": "python",
   "nbconvert_exporter": "python",
   "pygments_lexer": "ipython3",
   "version": "3.10.12"
  }
 },
 "nbformat": 4,
 "nbformat_minor": 2
}

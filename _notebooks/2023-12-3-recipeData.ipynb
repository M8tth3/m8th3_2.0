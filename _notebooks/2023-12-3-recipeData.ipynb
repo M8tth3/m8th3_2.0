{
 "cells": [
  {
   "cell_type": "code",
   "execution_count": 3,
   "metadata": {},
   "outputs": [],
   "source": [
    "import pandas as pd\n",
    "# Read the CSV file\n",
    "df = pd.read_csv('files/RecipeNLG_dataset.csv', nrows=50)  # Read only the first 50 rows\n",
    "columns = ['title','NER']\n",
    "df_formatted = df[columns]\n",
    "# Display the first 50 rows\n",
    "df_formatted.to_csv('formatted_file.csv', index=False)  # Set index=False to exclude row numbers\n"
   ]
  }
 ],
 "metadata": {
  "kernelspec": {
   "display_name": "Python 3",
   "language": "python",
   "name": "python3"
  },
  "language_info": {
   "codemirror_mode": {
    "name": "ipython",
    "version": 3
   },
   "file_extension": ".py",
   "mimetype": "text/x-python",
   "name": "python",
   "nbconvert_exporter": "python",
   "pygments_lexer": "ipython3",
   "version": "3.10.12"
  }
 },
 "nbformat": 4,
 "nbformat_minor": 2
}
